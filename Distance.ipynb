{
 "cells": [
  {
   "cell_type": "code",
   "execution_count": 1,
   "id": "60751b1a-822f-4ed4-bf6a-758734efa652",
   "metadata": {},
   "outputs": [],
   "source": [
    "# Calculate the distance between two locations based on latitude and longitude"
   ]
  },
  {
   "cell_type": "code",
   "execution_count": 9,
   "id": "b894d44f-4c88-44eb-97c4-8c7447873c89",
   "metadata": {},
   "outputs": [],
   "source": [
    "import csv\n",
    "import os\n",
    "from urllib.request import urlopen\n",
    "\n",
    "import pandas as pd"
   ]
  },
  {
   "cell_type": "code",
   "execution_count": 10,
   "id": "1872c316-9c87-414c-8a15-8ada61b581ef",
   "metadata": {},
   "outputs": [
    {
     "name": "stdout",
     "output_type": "stream",
     "text": [
      "urlData has 60 rows and 21 columns.\n",
      "['132045', 'Upminster Windmill', 'London', 'Greater London', 'Upminster', 'Urban', 'Other Historic Property', 'Not available', 'Not available', 'Not available', 'Not available', '0', ' 53 ', 'Exact', '10,000 or less', '', '', 'No', '', '0.2479', '51.55848']\n"
     ]
    }
   ],
   "source": [
    "# Read in csv data\n",
    "\n",
    "import csv\n",
    "from urllib.request import urlopen\n",
    "\n",
    "# url READ DATA\n",
    "url = \"https://raw.githubusercontent.com/yanqizeng/fsds_assessment/main/vva_site_listings_London_2021_02.csv\"\n",
    "\n",
    "urlData = []\n",
    "\n",
    "response = urlopen(url)\n",
    "csvfile = csv.reader(response.read().decode(\"utf-8\").splitlines())\n",
    "\n",
    "for row in csvfile:\n",
    "    urlData.append(row)\n",
    "\n",
    "print(\n",
    "    \"urlData has \"\n",
    "    + str(len(urlData))\n",
    "    + \" rows and \"\n",
    "    + str(len(urlData[0]))\n",
    "    + \" columns.\"\n",
    ")\n",
    "print(urlData[-1])  # Check it worked"
   ]
  },
  {
   "cell_type": "code",
   "execution_count": 11,
   "id": "97a6066a-76b8-424a-9602-b3606b116941",
   "metadata": {},
   "outputs": [
    {
     "name": "stdout",
     "output_type": "stream",
     "text": [
      "fsds_assessment/vva_site_listings_London_2021_02.csv\n"
     ]
    }
   ],
   "source": [
    "import os\n",
    "\n",
    "url = \"https://raw.githubusercontent.com/yanqizeng/fsds_assessment/main/vva_site_listings_London_2021_02.csv\"\n",
    "out = os.path.join(\n",
    "    \"fsds_assessment\", \"vva_site_listings_London_2021_02.csv\"\n",
    ")  # Print `out` if you aren't sure what this has done!\n",
    "\n",
    "print(out)"
   ]
  },
  {
   "cell_type": "code",
   "execution_count": 12,
   "id": "a9a2af3b-0ad0-4fec-8943-51c23e6180c3",
   "metadata": {},
   "outputs": [
    {
     "name": "stdout",
     "output_type": "stream",
     "text": [
      "fsds_assessment/vva_site_listings_London_2021_02.csv found locally!\n"
     ]
    }
   ],
   "source": [
    "# Check if the dest file exists\n",
    "def get_url(src, dest):\n",
    "\n",
    "    # Otherwise download the dest file\n",
    "\n",
    "    if os.path.isfile(dest):\n",
    "        print(f\"{dest} found locally!\")\n",
    "    else:\n",
    "        print(f\"{dest} not found, downloading!\")\n",
    "\n",
    "        response = urlopen(src)\n",
    "        filedata = response.read().decode(\"utf-8\")\n",
    "\n",
    "        path = list(os.path.split(dest)[:-1])\n",
    "\n",
    "        if len(path) >= 1 and path[0] != \"\":\n",
    "            os.makedirs(os.path.join(*path), exist_ok=True)\n",
    "\n",
    "        with open(dest, \"w\") as f:\n",
    "            f.write(filedata)\n",
    "\n",
    "        print(f\"Data written to {dest}!\")\n",
    "\n",
    "    return dest\n",
    "\n",
    "\n",
    "src = get_url(url, out)"
   ]
  },
  {
   "cell_type": "code",
   "execution_count": 13,
   "id": "df32092a-7de9-4afc-88e0-531304138366",
   "metadata": {},
   "outputs": [],
   "source": [
    "# Read the file using read_csv/ csv.reader\n",
    "# Automatic comma splitting to form list data\n",
    "\n",
    "\n",
    "def read_csv(src):\n",
    "\n",
    "    csvdata = {}  # dictionary-of-lists\n",
    "\n",
    "    with open(src, \"r\") as f:\n",
    "        csvr = csv.reader(f)\n",
    "\n",
    "        csvcols = next(csvr)\n",
    "        for c in csvcols:\n",
    "            csvdata[c] = []\n",
    "\n",
    "        for r in csvr:\n",
    "            for idx, c in enumerate(csvcols):\n",
    "                csvdata[c].append(r[idx])\n",
    "\n",
    "    return csvdata\n",
    "\n",
    "\n",
    "# read_csv(src)"
   ]
  },
  {
   "cell_type": "code",
   "execution_count": 14,
   "id": "2984cfc1-ed63-428a-8307-458646bc778e",
   "metadata": {},
   "outputs": [],
   "source": [
    "LondonAtrractions = read_csv(src)\n",
    "# print(LondonAtrractions)"
   ]
  },
  {
   "cell_type": "code",
   "execution_count": 23,
   "id": "301a62df-f4ec-470d-9b4a-d8012e113352",
   "metadata": {},
   "outputs": [],
   "source": [
    "# Calculate the distance between points_1\n",
    "\n",
    "from math import *\n",
    "\n",
    "\n",
    "# input Lat_A =  Latitude A\n",
    "# input Lng_A =  Longitude A\n",
    "# input Lat_B =  Latitude B\n",
    "# input Lng_B =  Longitude B\n",
    "# output distance (km)\n",
    "def caculate(Lat_A, Lng_A, Lat_B, Lng_B):\n",
    "    ra = 6378.140  # Equatorial radius (km)\n",
    "    rb = 6356.755  # Polar radius (km)\n",
    "    flatten = (ra - rb) / ra  # Earth Flat Rate\n",
    "    rad_lat_A = radians(Lat_A)\n",
    "    rad_lng_A = radians(Lng_A)\n",
    "    rad_lat_B = radians(Lat_B)\n",
    "    rad_lng_B = radians(Lng_B)\n",
    "    pA = atan(rb / ra * tan(rad_lat_A))\n",
    "    pB = atan(rb / ra * tan(rad_lat_B))\n",
    "    xx = acos(sin(pA) * sin(pB) + cos(pA) * cos(pB) * cos(rad_lng_A - rad_lng_B))\n",
    "    c1 = (sin(xx) - xx) * (sin(pA) + sin(pB)) ** 2 / cos(xx / 2) ** 2\n",
    "    c2 = (sin(xx) + xx) * (sin(pA) - sin(pB)) ** 2 / sin(xx / 2) ** 2\n",
    "    dr = flatten / 8 * (c1 - c2)\n",
    "    distance = ra * (xx + dr)\n",
    "    return distance"
   ]
  },
  {
   "cell_type": "code",
   "execution_count": null,
   "id": "b1454129-869a-4f29-9875-9258003d587f",
   "metadata": {},
   "outputs": [],
   "source": [
    "print(LondonAtrractions[\"Latitude\"])"
   ]
  },
  {
   "cell_type": "code",
   "execution_count": 25,
   "id": "dcb121d2-f8ed-477a-9d1d-b364d8d5515e",
   "metadata": {},
   "outputs": [
    {
     "name": "stdout",
     "output_type": "stream",
     "text": [
      "['Royal Botanic Gardens, Kew Gardens', 'Natural History Museum', 'British Museum', 'Tate Modern', 'Somerset House', 'Science Museum', 'Victoria and Albert Museum', 'ZSL London Zoo', 'National Gallery', 'The Horniman Public Museum & Public Park Trust', 'Tower of London', 'Tate Britain', 'Royal Academy of Arts', 'British Library', 'Hampton Court Palace', 'Imperial War Museum London', \"St Paul's Cathedral\", \"Shakespeare's Globe\", 'Old Royal Naval College Painted Hall', 'Royal Air Force Museum London', 'Wandle Heritage', 'Kensington Palace', 'Tower Bridge Exhibition', 'London Transport Museum', 'Westminster Abbey', 'London Wetlands Centre', 'Eltham Palace', 'Osterley Park House (NT)', 'Chelsea Physic Garden', 'Museum of the Home (formerly Geffrye Museum)', 'Thames Chase Forest Centre', 'Guildhall Art Gallery', \"Sir John Soane's Museum\", 'Down House - Home of Charles Darwin', 'Syon House', 'Kenwood House', 'The National Archives', 'Library and Museum of Freemasonary', 'Monument', 'Apsley House', 'Spitalfields City Farm', 'Cartoon Art Trust', 'Wellington Arch', 'Household Cavalry Museum', 'NATIONAL PORTRAIT GALLERY', 'Jewel Tower', \"Fuller's Griffin Brewery Tours\", \"The Wernher Collection at Ranger's House\", 'Bow Street Police Museum', 'Museum of Richmond', 'Fenton House', \"Pollock's Toy Museum\", 'Kempton Steam Museum', 'Keats House', 'Crystal Palace Museum', 'Rainham Hall', 'Sutton House (NT)', 'Marble Hill House', 'Upminster Windmill']\n"
     ]
    }
   ],
   "source": [
    "# London Attractions\n",
    "print(LondonAtrractions[\"Attraction\"])"
   ]
  },
  {
   "cell_type": "code",
   "execution_count": 26,
   "id": "40da6af7-3af6-4381-8c9e-1df2d1994315",
   "metadata": {},
   "outputs": [
    {
     "name": "stdout",
     "output_type": "stream",
     "text": [
      "(Lat_A, Lng_A)=(51.479362,-0.295909)\n",
      "(Lat_B, Lng_B)=(51.496111,-0.176389)\n",
      "Distance= 8.5083301 km\n"
     ]
    }
   ],
   "source": [
    "# Calculate the distance between points_2\n",
    "distance = caculate(\n",
    "    float(LondonAtrractions[\"Latitude\"][0]),\n",
    "    float(LondonAtrractions[\"Longitude\"][0]),\n",
    "    float(LondonAtrractions[\"Latitude\"][1]),\n",
    "    float(LondonAtrractions[\"Longitude\"][1]),\n",
    ")\n",
    "print(\n",
    "    f\"(Lat_A, Lng_A)=({LondonAtrractions['Latitude'][0]},{LondonAtrractions['Longitude'][0]})\"\n",
    ")\n",
    "print(\n",
    "    f\"(Lat_B, Lng_B)=({LondonAtrractions['Latitude'][1]},{LondonAtrractions['Longitude'][1]})\"\n",
    ")\n",
    "print(\"Distance={0:10.7f} km\".format(distance))"
   ]
  },
  {
   "cell_type": "code",
   "execution_count": null,
   "id": "ae3e612c-4c2a-4027-847d-30020e9ea71b",
   "metadata": {},
   "outputs": [],
   "source": []
  },
  {
   "cell_type": "code",
   "execution_count": null,
   "id": "af13a52a-2c80-4b6a-ac53-692b58dede44",
   "metadata": {},
   "outputs": [],
   "source": []
  },
  {
   "cell_type": "code",
   "execution_count": null,
   "id": "e739dabd-ac63-4b41-880d-b6e0a8d355ff",
   "metadata": {},
   "outputs": [],
   "source": []
  },
  {
   "cell_type": "code",
   "execution_count": null,
   "id": "961a9a58-5d7a-438a-a109-b13d8f578ae6",
   "metadata": {},
   "outputs": [],
   "source": []
  },
  {
   "cell_type": "code",
   "execution_count": null,
   "id": "177b1d53-6dc8-4b37-aa89-3ecd43166a1e",
   "metadata": {},
   "outputs": [],
   "source": []
  },
  {
   "cell_type": "code",
   "execution_count": null,
   "id": "67feae45-0df1-4d69-b3ca-46d22a01f65b",
   "metadata": {},
   "outputs": [],
   "source": []
  },
  {
   "cell_type": "code",
   "execution_count": null,
   "id": "c7289f8c-eb6f-4436-89f0-c65dbcc5e31a",
   "metadata": {},
   "outputs": [],
   "source": []
  }
 ],
 "metadata": {
  "kernelspec": {
   "display_name": "Python 3 (ipykernel)",
   "language": "python",
   "name": "python3"
  },
  "language_info": {
   "codemirror_mode": {
    "name": "ipython",
    "version": 3
   },
   "file_extension": ".py",
   "mimetype": "text/x-python",
   "name": "python",
   "nbconvert_exporter": "python",
   "pygments_lexer": "ipython3",
   "version": "3.10.5"
  }
 },
 "nbformat": 4,
 "nbformat_minor": 5
}
