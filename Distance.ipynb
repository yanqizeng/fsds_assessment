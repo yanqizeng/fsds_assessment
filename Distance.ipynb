{
 "cells": [
  {
   "cell_type": "code",
   "execution_count": 85,
   "id": "60751b1a-822f-4ed4-bf6a-758734efa652",
   "metadata": {},
   "outputs": [],
   "source": [
    "import os\n",
    "import pandas as pd\n",
    "from urllib.request import urlopen\n",
    "import csv"
   ]
  },
  {
   "cell_type": "code",
   "execution_count": 87,
   "id": "1872c316-9c87-414c-8a15-8ada61b581ef",
   "metadata": {},
   "outputs": [
    {
     "name": "stdout",
     "output_type": "stream",
     "text": [
      "urlData has 60 rows and 21 columns.\n",
      "['132045', 'Upminster Windmill', 'London', 'Greater London', 'Upminster', 'Urban', 'Other Historic Property', 'Not available', 'Not available', 'Not available', 'Not available', '0', ' 53 ', 'Exact', '10,000 or less', '', '', 'No', '', '0.2479', '51.55848']\n"
     ]
    }
   ],
   "source": [
    "# 读取伦敦景点数据\n",
    "\n",
    "from urllib.request import urlopen\n",
    "import csv\n",
    "\n",
    "# url READ DATA\n",
    "url = \"https://raw.githubusercontent.com/yanqizeng/fsds_assessment/main/vva_site_listings_London_2021_02.csv\"\n",
    "\n",
    "urlData = [] \n",
    "\n",
    "response = urlopen(url) \n",
    "csvfile  = csv.reader(response.read().decode('utf-8').splitlines()) \n",
    "\n",
    "for row in csvfile:\n",
    "    urlData.append(row)\n",
    "\n",
    "print(\"urlData has \" + str(len(urlData)) + \" rows and \" + str(len(urlData[0])) + \" columns.\")\n",
    "print(urlData[-1]) # Check it worked"
   ]
  },
  {
   "cell_type": "code",
   "execution_count": 88,
   "id": "97a6066a-76b8-424a-9602-b3606b116941",
   "metadata": {},
   "outputs": [
    {
     "name": "stdout",
     "output_type": "stream",
     "text": [
      "fsds_assessment/vva_site_listings_London_2021_02.csv\n"
     ]
    }
   ],
   "source": [
    "import os\n",
    "url = \"https://raw.githubusercontent.com/yanqizeng/fsds_assessment/main/vva_site_listings_London_2021_02.csv\"\n",
    "out = os.path.join('fsds_assessment','vva_site_listings_London_2021_02.csv') # Print `out` if you aren't sure what this has done!\n",
    "\n",
    "print(out)"
   ]
  },
  {
   "cell_type": "code",
   "execution_count": 89,
   "id": "a9a2af3b-0ad0-4fec-8943-51c23e6180c3",
   "metadata": {},
   "outputs": [
    {
     "name": "stdout",
     "output_type": "stream",
     "text": [
      "fsds_assessment/vva_site_listings_London_2021_02.csv found locally!\n"
     ]
    }
   ],
   "source": [
    "# 检查 dest文件是否存在\n",
    "def get_url(src, dest):\n",
    "    \n",
    "    # 否则下载dest文件\n",
    "    if os.path.isfile(dest):\n",
    "        print(f\"{dest} found locally!\")\n",
    "    else:\n",
    "        print(f\"{dest} not found, downloading!\")\n",
    "        \n",
    "        response = urlopen(src) \n",
    "        filedata = response.read().decode('utf-8')\n",
    "        \n",
    "        path = list(os.path.split(dest)[:-1])\n",
    "\n",
    "        if len(path) >= 1 and path[0] != '':\n",
    "            os.makedirs(os.path.join(*path), exist_ok=True)\n",
    "        \n",
    "        with open(dest, 'w') as f:\n",
    "            f.write(filedata)\n",
    "            \n",
    "        print(f\"Data written to {dest}!\")\n",
    "    \n",
    "   \n",
    "    return dest\n",
    "        \n",
    "\n",
    "src = get_url(url, out)"
   ]
  },
  {
   "cell_type": "code",
   "execution_count": 94,
   "id": "df32092a-7de9-4afc-88e0-531304138366",
   "metadata": {},
   "outputs": [],
   "source": [
    "# 使用read_csv/ csv.reader读取文件，自动split分割逗号，形成列表数据\n",
    "\n",
    "def read_csv(src):\n",
    "    \n",
    "    csvdata = {} # dictionary-of-lists\n",
    "    \n",
    "    with open(src, 'r') as f:\n",
    "        csvr = csv.reader(f)\n",
    "        \n",
    "        csvcols = next(csvr) \n",
    "        for c in csvcols:\n",
    "            csvdata[c] = []\n",
    "        \n",
    "        for r in csvr: \n",
    "            for idx, c in enumerate(csvcols):\n",
    "                csvdata[c].append(r[idx])\n",
    "    \n",
    "    return csvdata\n",
    "\n",
    "# read_csv(src)"
   ]
  },
  {
   "cell_type": "code",
   "execution_count": 95,
   "id": "2984cfc1-ed63-428a-8307-458646bc778e",
   "metadata": {},
   "outputs": [],
   "source": [
    "LondonAtrractions = read_csv(src)\n",
    "# print(LondonAtrractions)"
   ]
  },
  {
   "cell_type": "code",
   "execution_count": 66,
   "id": "301a62df-f4ec-470d-9b4a-d8012e113352",
   "metadata": {},
   "outputs": [],
   "source": [
    "# 计算点之间的距离\n",
    "\n",
    "from math import *\n",
    "\n",
    "# input Lat_A 纬度A\n",
    "# input Lng_A 经度A\n",
    "# input Lat_B 纬度B\n",
    "# input Lng_B 经度B\n",
    "# output distance 距离(km)\n",
    "def caculate(Lat_A, Lng_A, Lat_B, Lng_B):\n",
    "    ra = 6378.140  # 赤道半径 (km)\n",
    "    rb = 6356.755  # 极半径 (km)\n",
    "    flatten = (ra - rb) / ra  # 地球扁率\n",
    "    rad_lat_A = radians(Lat_A)\n",
    "    rad_lng_A = radians(Lng_A)\n",
    "    rad_lat_B = radians(Lat_B)\n",
    "    rad_lng_B = radians(Lng_B)\n",
    "    pA = atan(rb / ra * tan(rad_lat_A))\n",
    "    pB = atan(rb / ra * tan(rad_lat_B))\n",
    "    xx = acos(sin(pA) * sin(pB) + cos(pA) * cos(pB) * cos(rad_lng_A - rad_lng_B))\n",
    "    c1 = (sin(xx) - xx) * (sin(pA) + sin(pB)) ** 2 / cos(xx / 2) ** 2\n",
    "    c2 = (sin(xx) + xx) * (sin(pA) - sin(pB)) ** 2 / sin(xx / 2) ** 2\n",
    "    dr = flatten / 8 * (c1 - c2)\n",
    "    distance = ra * (xx + dr)\n",
    "    return distance "
   ]
  },
  {
   "cell_type": "code",
   "execution_count": 67,
   "id": "40da6af7-3af6-4381-8c9e-1df2d1994315",
   "metadata": {},
   "outputs": [
    {
     "name": "stdout",
     "output_type": "stream",
     "text": [
      "(Lat_A, Lng_A)=(51.479362,-0.295909)\n",
      "(Lat_B, Lng_B)=(51.496111,-0.176389)\n",
      "Distance= 8.5083301 km\n"
     ]
    }
   ],
   "source": [
    "# 计算点之间的距离\n",
    "distance=caculate(float(LondonAtrractions['Latitude'][0]),float(LondonAtrractions['Longitude'][0]),float(LondonAtrractions['Latitude'][1]),float(LondonAtrractions['Longitude'][1]))\n",
    "print(f\"(Lat_A, Lng_A)=({LondonAtrractions['Latitude'][0]},{LondonAtrractions['Longitude'][0]})\")\n",
    "print(f\"(Lat_B, Lng_B)=({LondonAtrractions['Latitude'][1]},{LondonAtrractions['Longitude'][1]})\")\n",
    "print('Distance={0:10.7f} km'.format(distance))\n"
   ]
  },
  {
   "cell_type": "code",
   "execution_count": null,
   "id": "ae3e612c-4c2a-4027-847d-30020e9ea71b",
   "metadata": {},
   "outputs": [],
   "source": []
  },
  {
   "cell_type": "code",
   "execution_count": null,
   "id": "af13a52a-2c80-4b6a-ac53-692b58dede44",
   "metadata": {},
   "outputs": [],
   "source": []
  },
  {
   "cell_type": "code",
   "execution_count": null,
   "id": "e739dabd-ac63-4b41-880d-b6e0a8d355ff",
   "metadata": {},
   "outputs": [],
   "source": []
  },
  {
   "cell_type": "code",
   "execution_count": null,
   "id": "961a9a58-5d7a-438a-a109-b13d8f578ae6",
   "metadata": {},
   "outputs": [],
   "source": []
  },
  {
   "cell_type": "code",
   "execution_count": null,
   "id": "177b1d53-6dc8-4b37-aa89-3ecd43166a1e",
   "metadata": {},
   "outputs": [],
   "source": []
  },
  {
   "cell_type": "code",
   "execution_count": null,
   "id": "67feae45-0df1-4d69-b3ca-46d22a01f65b",
   "metadata": {},
   "outputs": [],
   "source": []
  },
  {
   "cell_type": "code",
   "execution_count": null,
   "id": "c7289f8c-eb6f-4436-89f0-c65dbcc5e31a",
   "metadata": {},
   "outputs": [],
   "source": []
  }
 ],
 "metadata": {
  "kernelspec": {
   "display_name": "Python 3 (ipykernel)",
   "language": "python",
   "name": "python3"
  },
  "language_info": {
   "codemirror_mode": {
    "name": "ipython",
    "version": 3
   },
   "file_extension": ".py",
   "mimetype": "text/x-python",
   "name": "python",
   "nbconvert_exporter": "python",
   "pygments_lexer": "ipython3",
   "version": "3.10.5"
  }
 },
 "nbformat": 4,
 "nbformat_minor": 5
}
