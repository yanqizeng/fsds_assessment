{
 "cells": [
  {
   "cell_type": "code",
   "execution_count": null,
   "id": "dc4e3900-8c25-4094-9d94-745d40028850",
   "metadata": {},
   "outputs": [],
   "source": [
    "# Data visualisation\n",
    "# Airbnb reviews in 2022\n",
    "\n",
    "import folium\n",
    "from folium import plugins\n",
    "\n",
    "# pick the columns that we need\n",
    "num = df.shape[0]\n",
    "lat_cleaned = np.array(df[\"latitude\"][0:num])  # get latitude\n",
    "lon_cleaned = np.array(df[\"longitude\"][0:num]) # get longitude\n",
    "\n",
    "# Making the map\n",
    "london_map = folium.Map(location=[51.507222, -0.1275], \n",
    "                     zoom_start=11, \n",
    "                     control_scale=True)\n",
    "\n",
    "cleaned_cluster = plugins.MarkerCluster().add_to(london_map)\n",
    "\n",
    "for i in range(num):\n",
    "    folium.Marker(location = [lat_cleaned[i], lon_cleaned[i]]).add_to(cleaned_cluster)\n",
    "\n",
    "london_map.add_child(cleaned_cluster)"
   ]
  },
  {
   "cell_type": "code",
   "execution_count": null,
   "id": "7558efa5-07fc-4851-bb22-7c2ac1df2bd3",
   "metadata": {},
   "outputs": [],
   "source": [
    "# Data visualisation\n",
    "# Map of London attractions\n",
    "\n",
    "# pick the columns that we need\n",
    "num = df_sites.shape[0]\n",
    "lat_sites = np.array(df_sites[\"Latitude\"][0:num])  # get latitude\n",
    "lon_sites = np.array(df_sites[\"Longitude\"][0:num]) # get longitude\n",
    "\n",
    "# Making the map\n",
    "london_map_02 = folium.Map(location=[51.507222, -0.1275], \n",
    "                     zoom_start=11, \n",
    "                     control_scale=True)\n",
    "\n",
    "sites_cluster = plugins.MarkerCluster().add_to(london_map_02)\n",
    "\n",
    "for i in range(num):\n",
    "    folium.Marker(location = [lat_sites[i], lon_sites[i]]).add_to(sites_cluster)\n",
    "\n",
    "london_map_02.add_child(sites_cluster)"
   ]
  },
  {
   "cell_type": "code",
   "execution_count": null,
   "id": "9446e35c-99ef-44ef-b698-c99adfd8fd68",
   "metadata": {},
   "outputs": [],
   "source": [
    "# Data visualisation\n",
    "# heat map for Airbnb’ historical per month review\n",
    "\n",
    "from folium.plugins import HeatMap\n",
    "\n",
    "# pick the columns that we need\n",
    "airbnbNum = 8252  # number of Airbnb after data cleaning\n",
    "lat = np.array(df_cleaned[\"latitude\"][0:airbnbNum])  # get latitude\n",
    "lon = np.array(df_cleaned[\"longitude\"][0:airbnbNum]) # get longitude\n",
    "pri = np.array(df_cleaned[\"reviews_per_month_2022\"][0:airbnbNum], dtype=float) # price in 2022\n",
    "\n",
    "# Make the data in the form of [latitude, longitude, price]\n",
    "Airbnbdata = [[lat[i], lon[i], pri[i]] for i in range(airbnbNum)] \n",
    "\n",
    "# Making the map\n",
    "mapData = folium.Map(location=[51.507222, -0.1275], \n",
    "                     zoom_start=11, \n",
    "                     control_scale=True)\n",
    "\n",
    "HeatMap(Airbnbdata).add_to(mapData)\n",
    "\n",
    "mapData\n"
   ]
  },
  {
   "cell_type": "code",
   "execution_count": null,
   "id": "3e7dc90c-8a13-4e98-9086-9e72836dbf0a",
   "metadata": {},
   "outputs": [],
   "source": []
  }
 ],
 "metadata": {
  "kernelspec": {
   "display_name": "Python 3 (ipykernel)",
   "language": "python",
   "name": "python3"
  },
  "language_info": {
   "codemirror_mode": {
    "name": "ipython",
    "version": 3
   },
   "file_extension": ".py",
   "mimetype": "text/x-python",
   "name": "python",
   "nbconvert_exporter": "python",
   "pygments_lexer": "ipython3",
   "version": "3.10.5"
  }
 },
 "nbformat": 4,
 "nbformat_minor": 5
}
