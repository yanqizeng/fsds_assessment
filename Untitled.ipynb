{
 "cells": [
  {
   "cell_type": "code",
   "execution_count": 29,
   "id": "413fb119-5226-4b2f-bf2c-9406dd7bdea3",
   "metadata": {},
   "outputs": [],
   "source": [
    "import os\n",
    "import numpy as np\n",
    "import pandas as pd\n",
    "import geopandas as gpd\n",
    "import matplotlib.cm as cm\n",
    "import matplotlib.pyplot as plt\n",
    "import csv"
   ]
  },
  {
   "cell_type": "code",
   "execution_count": 2,
   "id": "7443bd4a-6cdf-47e7-b34e-3654a2e01579",
   "metadata": {},
   "outputs": [
    {
     "name": "stdout",
     "output_type": "stream",
     "text": [
      "fsds_assessment/Airbnb_20and22.csv\n"
     ]
    }
   ],
   "source": [
    "# 读取数据\n",
    "\n",
    "url = \"https://raw.githubusercontent.com/yanqizeng/fsds_assessment/main/Airbnb_20and22.csv\"\n",
    "out = os.path.join('fsds_assessment','Airbnb_20and22.csv') # Print `out` if you aren't sure what this has done!\n",
    "\n",
    "print(out)"
   ]
  },
  {
   "cell_type": "code",
   "execution_count": 3,
   "id": "bb54287f-facd-4ea9-8eba-0bb922799223",
   "metadata": {},
   "outputs": [
    {
     "name": "stdout",
     "output_type": "stream",
     "text": [
      "fsds_assessment/Airbnb_20and22.csv found locally!\n"
     ]
    }
   ],
   "source": [
    "# 检查 dest文件是否存在\n",
    "def get_url(src, dest):\n",
    "    \n",
    "    # 否则下载dest文件\n",
    "    if os.path.isfile(dest):\n",
    "        print(f\"{dest} found locally!\")\n",
    "    else:\n",
    "        print(f\"{dest} not found, downloading!\")\n",
    "        \n",
    "        response = urlopen(src) \n",
    "        filedata = response.read().decode('utf-8')\n",
    "        \n",
    "        path = list(os.path.split(dest)[:-1])\n",
    "\n",
    "        if len(path) >= 1 and path[0] != '':\n",
    "            os.makedirs(os.path.join(*path), exist_ok=True)\n",
    "        \n",
    "        with open(dest, 'w') as f:\n",
    "            f.write(filedata)\n",
    "            \n",
    "        print(f\"Data written to {dest}!\")\n",
    "    \n",
    "   \n",
    "    return dest\n",
    "        \n",
    "\n",
    "src = get_url(url, out)"
   ]
  },
  {
   "cell_type": "code",
   "execution_count": 4,
   "id": "eeb4375b-31a1-4c8d-a003-c30888fb9022",
   "metadata": {},
   "outputs": [],
   "source": [
    "# 使用read_csv/ csv.reader读取文件，自动split分割逗号，形成列表数据\n",
    "\n",
    "def read_csv(src):\n",
    "    \n",
    "    csvdata = {} # dictionary-of-lists\n",
    "    \n",
    "    with open(src, 'r') as f:\n",
    "        csvr = csv.reader(f)\n",
    "        \n",
    "        csvcols = next(csvr) \n",
    "        for c in csvcols:\n",
    "            csvdata[c] = []\n",
    "        \n",
    "        for r in csvr: \n",
    "            for idx, c in enumerate(csvcols):\n",
    "                csvdata[c].append(r[idx])\n",
    "    \n",
    "    return csvdata\n",
    "\n",
    "# read_csv(src)"
   ]
  },
  {
   "cell_type": "code",
   "execution_count": 5,
   "id": "1bfdfa13-115a-474b-aad4-2670c0320078",
   "metadata": {},
   "outputs": [],
   "source": [
    "AirbnbData_01 = read_csv(src)\n",
    "# print(LondonAtrractions)"
   ]
  },
  {
   "cell_type": "code",
   "execution_count": 6,
   "id": "fbd25e73-b041-4fc2-9b5d-701c1c898658",
   "metadata": {},
   "outputs": [],
   "source": [
    "# 制作加权热力图\n",
    "\n",
    "# 提取数据\n",
    "airbnbNum = 43397 # 共分析43397个Airbnb\n",
    "lat = np.array(AirbnbData_01[\"latitude\"][0:airbnbNum])  # 获取纬度值\n",
    "lon = np.array(AirbnbData_01[\"longitude\"][0:airbnbNum]) # 获取经度值\n",
    "vis = np.array(AirbnbData_01[\"price_2022\"][0:airbnbNum], dtype=float) # 获取参观量\n"
   ]
  },
  {
   "cell_type": "code",
   "execution_count": 17,
   "id": "b058e419-1cdd-40ca-bd12-3be4c4efb73c",
   "metadata": {},
   "outputs": [
    {
     "data": {
      "text/plain": [
       "<folium.plugins.heat_map.HeatMap at 0x7f40bc9420b0>"
      ]
     },
     "execution_count": 17,
     "metadata": {},
     "output_type": "execute_result"
    }
   ],
   "source": [
    "import folium\n",
    "from folium.plugins import HeatMap\n",
    "\n",
    "# 将数据制作成[纬度，经度，权重]的形式\n",
    "Airbnbdata = [[lat[i], lon[i], vis[i]] for i in range(airbnbNum)] \n",
    "\n",
    "# 生成地图数据\n",
    "# location=[51.507222, -0.1275]是以伦敦为中心生成\n",
    "mapData = folium.Map(location=[51.507222, -0.1275], \n",
    "                     zoom_start=10, \n",
    "                     control_scale=True)\n",
    "\n",
    "# 将热力图添加到地图里\n",
    "HeatMap(Airbnbdata).add_to(mapData)\n",
    "\n",
    "# mapData\n",
    "\n",
    "\n",
    "# 或者，将结果保存为 html(网页）文件\n",
    "# filePath = r\"GDP_HeatMap.html\"\n",
    "# mapData.save(filePath)\n"
   ]
  },
  {
   "cell_type": "code",
   "execution_count": 8,
   "id": "8cc28661-0423-4755-8aa0-3219c0ea2b07",
   "metadata": {},
   "outputs": [],
   "source": []
  },
  {
   "cell_type": "code",
   "execution_count": 9,
   "id": "7f5841bc-28ab-4188-9d84-8625856b08fa",
   "metadata": {},
   "outputs": [],
   "source": [
    "# 制作点分布位置图（数据上万时直接卡死）\n",
    "\n",
    "from folium import plugins\n",
    "\n",
    "# 读取数据\n",
    "df = pd.read_csv('https://raw.githubusercontent.com/yanqizeng/fsds_assessment/main/vva_site_listings_London_2021_02.csv')"
   ]
  },
  {
   "cell_type": "code",
   "execution_count": 10,
   "id": "32528453-c889-4cb0-9b80-acfa7293332a",
   "metadata": {},
   "outputs": [],
   "source": [
    "num = df.shape[0]\n",
    "\n",
    "lat_02 = np.array(df[\"Latitude\"][0:num])  # 获取纬度值\n",
    "lon_02 = np.array(df[\"Longitude\"][0:num]) # 获取经度值"
   ]
  },
  {
   "cell_type": "code",
   "execution_count": 11,
   "id": "3a3d93f1-6525-4f71-9dae-5c6ca17aea7c",
   "metadata": {},
   "outputs": [],
   "source": [
    "mapData_02 = folium.Map(location=[51.507222, -0.1275], \n",
    "                     zoom_start=10, \n",
    "                     control_scale=True)"
   ]
  },
  {
   "cell_type": "code",
   "execution_count": 12,
   "id": "4a476975-c74f-49de-b4f5-a4bd3fbd37cf",
   "metadata": {},
   "outputs": [],
   "source": [
    "for i in range(num):\n",
    "    plugins.MarkerCluster(location = [lat_02[i], lon_02[i]]).add_to(mapData_02)\n",
    "\n",
    "# mapData_02"
   ]
  },
  {
   "cell_type": "code",
   "execution_count": null,
   "id": "1961cbb9-b66c-4ff5-9b38-be0744b953ba",
   "metadata": {},
   "outputs": [],
   "source": []
  },
  {
   "cell_type": "code",
   "execution_count": 13,
   "id": "67d53bc5-dfc8-42f4-834d-6ecb621cfce4",
   "metadata": {},
   "outputs": [],
   "source": [
    "# 制作数量总计图\n",
    "\n",
    "from folium import plugins\n",
    "\n",
    "ladata = pd.read_csv('https://raw.githubusercontent.com/yanqizeng/fsds_assessment/main/Airbnb_20and22.csv')"
   ]
  },
  {
   "cell_type": "code",
   "execution_count": 14,
   "id": "76e27fc4-c04c-404b-93ed-b9cb7e591f64",
   "metadata": {},
   "outputs": [],
   "source": [
    "num = ladata.shape[0]\n",
    "lat_02 = np.array(ladata[\"latitude\"][0:num])  # 获取纬度值\n",
    "lon_02 = np.array(ladata[\"longitude\"][0:num]) # 获取经度值\n"
   ]
  },
  {
   "cell_type": "code",
   "execution_count": 20,
   "id": "5a5b24ab-a584-4327-b4ac-9f326626f73f",
   "metadata": {},
   "outputs": [],
   "source": [
    "london_map = folium.Map(location=[51.507222, -0.1275], \n",
    "                     zoom_start=10, \n",
    "                     control_scale=True)\n",
    "\n",
    "la_cluster = plugins.MarkerCluster().add_to(london_map)\n",
    "\n",
    "\n",
    "for i in range(num):\n",
    "    folium.Marker(location = [lat_02[i], lon_02[i]]).add_to(la_cluster)\n",
    "\n",
    "    \n",
    "# london_map.add_child(la_cluster)\n"
   ]
  },
  {
   "cell_type": "code",
   "execution_count": null,
   "id": "e40c3a1a-1621-42c8-828e-3e55121abcf8",
   "metadata": {},
   "outputs": [],
   "source": []
  },
  {
   "cell_type": "code",
   "execution_count": 30,
   "id": "c080633a-83dd-4ad0-97f3-7dc851fbf6a6",
   "metadata": {},
   "outputs": [
    {
     "name": "stdout",
     "output_type": "stream",
     "text": [
      "               id                 property_type_2020 price_2020  \\\n",
      "0         15400.0                   Entire apartment     $75.00   \n",
      "1         17402.0                   Entire apartment    $208.00   \n",
      "2         17506.0  Private room in bed and breakfast    $150.00   \n",
      "3         25123.0              Private room in house     $29.00   \n",
      "4         33332.0              Private room in house     $65.00   \n",
      "...           ...                                ...        ...   \n",
      "43392  45084351.0                   Entire apartment     $90.00   \n",
      "43393  45086761.0                   Entire apartment     $50.00   \n",
      "43394  45087104.0                       Entire house     $80.00   \n",
      "43395  45088266.0              Private room in house     $32.00   \n",
      "43396  45089002.0              Private room in house     $23.00   \n",
      "\n",
      "       number_of_reviews_ltm_2020  reviews_per_month_2020   room_type_2022  \\\n",
      "0                             3.0                    0.68  Entire home/apt   \n",
      "1                             1.0                    0.37  Entire home/apt   \n",
      "2                             0.0                     NaN     Private room   \n",
      "3                             7.0                    1.02     Private room   \n",
      "4                             1.0                    0.05     Private room   \n",
      "...                           ...                     ...              ...   \n",
      "43392                         0.0                     NaN  Entire home/apt   \n",
      "43393                         0.0                     NaN  Entire home/apt   \n",
      "43394                         0.0                     NaN  Entire home/apt   \n",
      "43395                         0.0                     NaN     Private room   \n",
      "43396                         0.0                     NaN     Private room   \n",
      "\n",
      "       price_2022  latitude  longitude  minimum_nights  reviews_per_month_2022  \n",
      "0              75  51.48780   -0.16813               3                    0.60  \n",
      "1             307  51.52195   -0.14094               4                    0.34  \n",
      "2             150  51.47935   -0.19743               3                     NaN  \n",
      "3              29  51.57438   -0.21081              10                    0.89  \n",
      "4              65  51.46416   -0.32554               2                    0.09  \n",
      "...           ...       ...        ...             ...                     ...  \n",
      "43392          85  51.53420   -0.02172              10                    0.06  \n",
      "43393          50  51.49450   -0.06573               2                    0.27  \n",
      "43394         100  51.41476   -0.12687               1                     NaN  \n",
      "43395          50  51.54564   -0.12106               1                    1.62  \n",
      "43396          70  51.58933   -0.08505               3                     NaN  \n",
      "\n",
      "[43397 rows x 11 columns]\n"
     ]
    }
   ],
   "source": [
    "print(ladata)"
   ]
  },
  {
   "cell_type": "code",
   "execution_count": 35,
   "id": "f49cf14a-3dc5-45a9-be5d-406944cf94ae",
   "metadata": {},
   "outputs": [],
   "source": [
    "# 饼状图\n",
    "\n",
    "import pandas as pd\n",
    "import numpy as np\n",
    "\n",
    "roomtype = ladata.groupby(\"room_type_2022\").size()\n",
    "roomdata = list(zip(roomtype.index.to_list(), roomtype.to_list()))\n",
    "roomdata = np.array(roomdata)"
   ]
  },
  {
   "cell_type": "code",
   "execution_count": 40,
   "id": "bbe9fe23-05f4-48e7-a7ef-a91c7c4329c4",
   "metadata": {},
   "outputs": [
    {
     "data": {
      "image/png": "[encoded data removed]",
      "text/plain": [
       "<Figure size 432x288 with 1 Axes>"
      ]
     },
     "metadata": {},
     "output_type": "display_data"
    }
   ],
   "source": [
    "# 绘制饼图\n",
    "import matplotlib.pyplot as plt\n",
    "# 设置字体和编码格式\n",
    "plt.rcParams['font.sans-serif'] = 'simhei'\n",
    "plt.rcParams['axes.unicode_minus'] = False\n",
    "# 添加数据，标签，比例\n",
    "plt.pie(roomdata[:, 1], labels=roomdata[:, 0], autopct=\"%.1ff%%\") \n",
    "# 在左上方添加图例\n",
    "plt.legend(roomdata[:, 0], loc=\"upper left\")\n",
    "# 添加标题\n",
    "plt.title(\"Airbnb room type\") \n",
    "# 展示饼图\n",
    "plt.show()"
   ]
  },
  {
   "cell_type": "code",
   "execution_count": null,
   "id": "c12f4e65-ff6a-4bb5-941f-a0233160003b",
   "metadata": {},
   "outputs": [],
   "source": []
  },
  {
   "cell_type": "code",
   "execution_count": null,
   "id": "5755e46d-a185-404a-ac2d-272268db6092",
   "metadata": {},
   "outputs": [],
   "source": []
  }
 ],
 "metadata": {
  "kernelspec": {
   "display_name": "Python 3 (ipykernel)",
   "language": "python",
   "name": "python3"
  },
  "language_info": {
   "codemirror_mode": {
    "name": "ipython",
    "version": 3
   },
   "file_extension": ".py",
   "mimetype": "text/x-python",
   "name": "python",
   "nbconvert_exporter": "python",
   "pygments_lexer": "ipython3",
   "version": "3.10.5"
  }
 },
 "nbformat": 4,
 "nbformat_minor": 5
}
