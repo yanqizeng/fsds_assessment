{
 "cells": [
  {
   "cell_type": "code",
   "execution_count": 1,
   "id": "85aa38f6-1687-4f51-a7b0-a88786c820b9",
   "metadata": {},
   "outputs": [],
   "source": [
    "%matplotlib inline\n",
    "\n",
    "import math\n",
    "\n",
    "import matplotlib as mpl\n",
    "import matplotlib.pyplot as plt\n",
    "import numpy as np\n",
    "import pandas as pd\n",
    "import geopandas as gpd\n",
    "\n",
    "import statsmodels.formula.api as smf\n",
    "import statsmodels\n",
    "\n",
    "import seaborn as sn"
   ]
  },
  {
   "cell_type": "code",
   "execution_count": 2,
   "id": "096d1f73-0398-42a8-9517-b85f6d2a7f17",
   "metadata": {},
   "outputs": [],
   "source": [
    "# read in Inside Airbnb dataframe\n",
    "df_2020 = pd.read_csv('2020IA.csv',low_memory=False)\n",
    "df_2022 = pd.read_csv('2022IA.csv',low_memory=False)"
   ]
  },
  {
   "cell_type": "code",
   "execution_count": 3,
   "id": "f9770afc-e6a6-4001-8000-6de485b3a40e",
   "metadata": {},
   "outputs": [],
   "source": [
    "# pick the columns that we need\n",
    "df_2020_pick = df_2020.loc[:,['id', 'price', 'number_of_reviews_ltm','reviews_per_month']]\n",
    "df_2022_pick = df_2022.loc[:,['id', 'room_type', 'price','longitude', 'latitude', 'minimum_nights',\n",
    "                              'number_of_reviews_ltm', 'reviews_per_month']]"
   ]
  },
  {
   "cell_type": "code",
   "execution_count": 4,
   "id": "3e6fa90c-ae6d-40f4-bf56-ffc0cfcdae02",
   "metadata": {},
   "outputs": [
    {
     "name": "stdout",
     "output_type": "stream",
     "text": [
      "Index(['id', 'price_2020', 'number_of_reviews_ltm_2020',\n",
      "       'reviews_per_month_2020'],\n",
      "      dtype='object')\n",
      "Index(['id', 'room_type', 'price_2022', 'longitude', 'latitude',\n",
      "       'minimum_nights', 'number_of_reviews_ltm_2022',\n",
      "       'reviews_per_month_2022'],\n",
      "      dtype='object')\n"
     ]
    }
   ],
   "source": [
    "# rename the columns\n",
    "df_2020_rename = df_2020_pick.rename(columns = {'price':'price_2020',\n",
    "                                                'number_of_reviews_ltm':'number_of_reviews_ltm_2020',\n",
    "                                                'reviews_per_month':'reviews_per_month_2020'})\n",
    "df_2022_rename = df_2022_pick.rename(columns = {'price':'price_2022',\n",
    "                                                'number_of_reviews_ltm':'number_of_reviews_ltm_2022',\n",
    "                                                'reviews_per_month':'reviews_per_month_2022'})\n",
    "print(df_2020_rename.columns)\n",
    "print(df_2022_rename.columns)"
   ]
  },
  {
   "cell_type": "code",
   "execution_count": 5,
   "id": "a2913616-6ee7-4d00-b13b-0bebe9f101b2",
   "metadata": {},
   "outputs": [],
   "source": [
    "# join dataframes\n",
    "df = pd.merge(df_2020_rename, df_2022_rename, how='inner', on=['id'])"
   ]
  },
  {
   "cell_type": "code",
   "execution_count": 6,
   "id": "f8c056b5-1da0-4e17-94b1-5933b8f07e2a",
   "metadata": {},
   "outputs": [
    {
     "data": {
      "text/plain": [
       "id                            float64\n",
       "price_2020                    float64\n",
       "number_of_reviews_ltm_2020    float64\n",
       "reviews_per_month_2020        float64\n",
       "room_type                      object\n",
       "price_2022                      int64\n",
       "longitude                     float64\n",
       "latitude                      float64\n",
       "minimum_nights                  int64\n",
       "number_of_reviews_ltm_2022      int64\n",
       "reviews_per_month_2022        float64\n",
       "dtype: object"
      ]
     },
     "execution_count": 6,
     "metadata": {},
     "output_type": "execute_result"
    }
   ],
   "source": [
    "#delete $ and change datatype\n",
    "df['price_2020'] = df['price_2020'].mask(df['price_2020'].str.contains('\\,')==True,df['price_2020'].str.replace(',',''))\n",
    "df['price_2020'] = df['price_2020'].str.split('$').str[1]\n",
    "df['price_2020'] = df['price_2020'].astype('float64')\n",
    "df.dtypes"
   ]
  },
  {
   "cell_type": "code",
   "execution_count": 8,
   "id": "dda24ef5-3557-4fd4-acb6-773916736dcf",
   "metadata": {},
   "outputs": [],
   "source": [
    "# data cleaning\n",
    "df['reviews_per_month_2020'] = np.nan_to_num(df['reviews_per_month_2020'])\n",
    "df['reviews_per_month_2022'] = np.nan_to_num(df['reviews_per_month_2022'])\n",
    "df_cleaned = df[\n",
    "    (df[\"number_of_reviews_ltm_2020\"] != 0) & \n",
    "    (df[\"reviews_per_month_2020\"] != 0) & \n",
    "    (df[\"number_of_reviews_ltm_2022\"] != 0) & \n",
    "    (df[\"reviews_per_month_2022\"] != 0) & \n",
    "    (df[\"minimum_nights\"] <= 5)]"
   ]
  },
  {
   "cell_type": "code",
   "execution_count": 41,
   "id": "fe4de1de-3723-4341-8f68-36093442abce",
   "metadata": {},
   "outputs": [
    {
     "name": "stderr",
     "output_type": "stream",
     "text": [
      "/tmp/ipykernel_2218/2124903547.py:2: SettingWithCopyWarning: \n",
      "A value is trying to be set on a copy of a slice from a DataFrame.\n",
      "Try using .loc[row_indexer,col_indexer] = value instead\n",
      "\n",
      "See the caveats in the documentation: https://pandas.pydata.org/pandas-docs/stable/user_guide/indexing.html#returning-a-view-versus-a-copy\n",
      "  df_cleaned.loc[:,'price_increase']=(df_cleaned.price_2022 - df_cleaned.price_2020)/df_cleaned.price_2020\n"
     ]
    },
    {
     "data": {
      "text/html": [
       "<div>\n",
       "<style scoped>\n",
       "    .dataframe tbody tr th:only-of-type {\n",
       "        vertical-align: middle;\n",
       "    }\n",
       "\n",
       "    .dataframe tbody tr th {\n",
       "        vertical-align: top;\n",
       "    }\n",
       "\n",
       "    .dataframe thead th {\n",
       "        text-align: right;\n",
       "    }\n",
       "</style>\n",
       "<table border=\"1\" class=\"dataframe\">\n",
       "  <thead>\n",
       "    <tr style=\"text-align: right;\">\n",
       "      <th></th>\n",
       "      <th>id</th>\n",
       "      <th>price_2020</th>\n",
       "      <th>number_of_reviews_ltm_2020</th>\n",
       "      <th>reviews_per_month_2020</th>\n",
       "      <th>room_type</th>\n",
       "      <th>price_2022</th>\n",
       "      <th>longitude</th>\n",
       "      <th>latitude</th>\n",
       "      <th>minimum_nights</th>\n",
       "      <th>number_of_reviews_ltm_2022</th>\n",
       "      <th>reviews_per_month_2022</th>\n",
       "      <th>price_increase</th>\n",
       "    </tr>\n",
       "  </thead>\n",
       "  <tbody>\n",
       "    <tr>\n",
       "      <th>1</th>\n",
       "      <td>17402.0</td>\n",
       "      <td>208.0</td>\n",
       "      <td>1.0</td>\n",
       "      <td>0.37</td>\n",
       "      <td>Entire home/apt</td>\n",
       "      <td>307</td>\n",
       "      <td>-0.14094</td>\n",
       "      <td>51.52195</td>\n",
       "      <td>4</td>\n",
       "      <td>3</td>\n",
       "      <td>0.34</td>\n",
       "      <td>0.475962</td>\n",
       "    </tr>\n",
       "    <tr>\n",
       "      <th>4</th>\n",
       "      <td>33332.0</td>\n",
       "      <td>65.0</td>\n",
       "      <td>1.0</td>\n",
       "      <td>0.05</td>\n",
       "      <td>Private room</td>\n",
       "      <td>65</td>\n",
       "      <td>-0.32554</td>\n",
       "      <td>51.46416</td>\n",
       "      <td>2</td>\n",
       "      <td>6</td>\n",
       "      <td>0.09</td>\n",
       "      <td>0.000000</td>\n",
       "    </tr>\n",
       "    <tr>\n",
       "      <th>5</th>\n",
       "      <td>36299.0</td>\n",
       "      <td>195.0</td>\n",
       "      <td>4.0</td>\n",
       "      <td>0.64</td>\n",
       "      <td>Entire home/apt</td>\n",
       "      <td>195</td>\n",
       "      <td>-0.28086</td>\n",
       "      <td>51.48085</td>\n",
       "      <td>3</td>\n",
       "      <td>10</td>\n",
       "      <td>0.64</td>\n",
       "      <td>0.000000</td>\n",
       "    </tr>\n",
       "    <tr>\n",
       "      <th>6</th>\n",
       "      <td>36660.0</td>\n",
       "      <td>72.0</td>\n",
       "      <td>19.0</td>\n",
       "      <td>4.36</td>\n",
       "      <td>Private room</td>\n",
       "      <td>72</td>\n",
       "      <td>-0.16057</td>\n",
       "      <td>51.58478</td>\n",
       "      <td>2</td>\n",
       "      <td>22</td>\n",
       "      <td>3.93</td>\n",
       "      <td>0.000000</td>\n",
       "    </tr>\n",
       "    <tr>\n",
       "      <th>8</th>\n",
       "      <td>38605.0</td>\n",
       "      <td>58.0</td>\n",
       "      <td>22.0</td>\n",
       "      <td>3.06</td>\n",
       "      <td>Private room</td>\n",
       "      <td>62</td>\n",
       "      <td>-0.23345</td>\n",
       "      <td>51.50681</td>\n",
       "      <td>2</td>\n",
       "      <td>3</td>\n",
       "      <td>2.67</td>\n",
       "      <td>0.068966</td>\n",
       "    </tr>\n",
       "  </tbody>\n",
       "</table>\n",
       "</div>"
      ],
      "text/plain": [
       "        id  price_2020  number_of_reviews_ltm_2020  reviews_per_month_2020  \\\n",
       "1  17402.0       208.0                         1.0                    0.37   \n",
       "4  33332.0        65.0                         1.0                    0.05   \n",
       "5  36299.0       195.0                         4.0                    0.64   \n",
       "6  36660.0        72.0                        19.0                    4.36   \n",
       "8  38605.0        58.0                        22.0                    3.06   \n",
       "\n",
       "         room_type  price_2022  longitude  latitude  minimum_nights  \\\n",
       "1  Entire home/apt         307   -0.14094  51.52195               4   \n",
       "4     Private room          65   -0.32554  51.46416               2   \n",
       "5  Entire home/apt         195   -0.28086  51.48085               3   \n",
       "6     Private room          72   -0.16057  51.58478               2   \n",
       "8     Private room          62   -0.23345  51.50681               2   \n",
       "\n",
       "   number_of_reviews_ltm_2022  reviews_per_month_2022  price_increase  \n",
       "1                           3                    0.34        0.475962  \n",
       "4                           6                    0.09        0.000000  \n",
       "5                          10                    0.64        0.000000  \n",
       "6                          22                    3.93        0.000000  \n",
       "8                           3                    2.67        0.068966  "
      ]
     },
     "execution_count": 41,
     "metadata": {},
     "output_type": "execute_result"
    }
   ],
   "source": [
    "# calculate increase percentage\n",
    "df_cleaned.loc[:,'price_increase']=(df_cleaned.price_2022 - df_cleaned.price_2020)/df_cleaned.price_2020\n",
    "df_cleaned.head()"
   ]
  },
  {
   "cell_type": "code",
   "execution_count": 9,
   "id": "0fe4923a-94fe-4105-b470-0b64ce2038d5",
   "metadata": {},
   "outputs": [
    {
     "name": "stdout",
     "output_type": "stream",
     "text": [
      "   longitude  latitude  price_increase  reviews_per_month_2022  \\\n",
      "0   -0.14094  51.52195        0.475962                    0.34   \n",
      "1   -0.32554  51.46416        0.000000                    0.09   \n",
      "2   -0.28086  51.48085        0.000000                    0.64   \n",
      "3   -0.16057  51.58478        0.000000                    3.93   \n",
      "4   -0.23345  51.50681        0.068966                    2.67   \n",
      "\n",
      "   number_of_reviews_ltm_2022  \n",
      "0                           3  \n",
      "1                           6  \n",
      "2                          10  \n",
      "3                          22  \n",
      "4                           3  \n",
      "longitude                     float64\n",
      "latitude                      float64\n",
      "price_increase                float64\n",
      "reviews_per_month_2022        float64\n",
      "number_of_reviews_ltm_2022      int64\n",
      "dtype: object\n"
     ]
    }
   ],
   "source": [
    "df_pick = df_cleaned.loc[:,['longitude', 'latitude', 'price_increase',\n",
    "                            'reviews_per_month_2022', 'number_of_reviews_ltm_2022']]\n",
    "df_pick=df_pick.reset_index(drop=True)\n",
    "print(df_pick.head())\n",
    "print(df_pick.dtypes)"
   ]
  },
  {
   "cell_type": "code",
   "execution_count": 10,
   "id": "af9ae939-f606-49ce-a975-cddef5d98d65",
   "metadata": {},
   "outputs": [],
   "source": [
    "# read in London sites dataframe\n",
    "df_sites = pd.read_csv('vva_site_listings_London_2021_02.csv')"
   ]
  },
  {
   "cell_type": "code",
   "execution_count": 11,
   "id": "fbb623e9-1df7-4f34-a699-f322a290dc43",
   "metadata": {},
   "outputs": [],
   "source": [
    "# rename site columns\n",
    "df_sites_rename = df_sites.rename(columns = {'Visitors 2021':'visitors_2021'})"
   ]
  },
  {
   "cell_type": "code",
   "execution_count": 12,
   "id": "954cfc58-f865-4e6b-9f3b-07e0897ec920",
   "metadata": {},
   "outputs": [
    {
     "name": "stdout",
     "output_type": "stream",
     "text": [
      "   Longitude   Latitude visitors_2021\n",
      "0  -0.295909  51.479362     1,963,171\n",
      "1  -0.176389  51.496111     1,571,413\n",
      "2  -0.126944  51.519444     1,327,120\n",
      "3  -0.099400  51.507600     1,156,037\n",
      "4  -0.117194  51.511028       984,978\n"
     ]
    }
   ],
   "source": [
    "# pick the columns that we need\n",
    "df_sites_pick = df_sites_rename.loc[:,['Longitude','Latitude', 'visitors_2021']]\n",
    "print(df_sites_pick.head())"
   ]
  },
  {
   "cell_type": "code",
   "execution_count": 13,
   "id": "9b6aa69d-f05b-4f7a-96ad-f190d93a6ae9",
   "metadata": {},
   "outputs": [],
   "source": [
    "df_sites_pick['visitors_2021'] = df_sites_pick['visitors_2021'].str.replace('$','', regex=True).replace(',','', regex=True).astype('float64')"
   ]
  },
  {
   "cell_type": "code",
   "execution_count": 14,
   "id": "248e6790-1f23-4a01-bcbc-40fb29d260c1",
   "metadata": {},
   "outputs": [
    {
     "name": "stdout",
     "output_type": "stream",
     "text": [
      "   house_index  longitude  latitude  price_increase  reviews_per_month_2022  \\\n",
      "0            0   -0.14094  51.52195        0.475962                    0.34   \n",
      "1            1   -0.32554  51.46416        0.000000                    0.09   \n",
      "2            2   -0.28086  51.48085        0.000000                    0.64   \n",
      "3            3   -0.16057  51.58478        0.000000                    3.93   \n",
      "4            4   -0.23345  51.50681        0.068966                    2.67   \n",
      "\n",
      "   number_of_reviews_ltm_2022  \n",
      "0                           3  \n",
      "1                           6  \n",
      "2                          10  \n",
      "3                          22  \n",
      "4                           3  \n",
      "   site_index  Longitude   Latitude  visitors_2021\n",
      "0           0  -0.295909  51.479362      1963171.0\n",
      "1           1  -0.176389  51.496111      1571413.0\n",
      "2           2  -0.126944  51.519444      1327120.0\n",
      "3           3  -0.099400  51.507600      1156037.0\n",
      "4           4  -0.117194  51.511028       984978.0\n"
     ]
    }
   ],
   "source": [
    "# Add index number\n",
    "df_pick.insert(0, 'house_index', range(0, len(df_pick)))\n",
    "df_sites_pick.insert(0, 'site_index', range(0, len(df_sites_pick)))\n",
    "print(df_pick.head())\n",
    "print(df_sites_pick.head())"
   ]
  },
  {
   "cell_type": "code",
   "execution_count": 15,
   "id": "027d70ae-567b-47d5-af08-59b9549529df",
   "metadata": {},
   "outputs": [
    {
     "name": "stdout",
     "output_type": "stream",
     "text": [
      "0    POINT (529075.790 181974.865)\n",
      "1    POINT (516416.338 175239.086)\n",
      "2    POINT (519476.347 177167.001)\n",
      "3    POINT (527538.280 188927.439)\n",
      "4    POINT (522698.676 180132.232)\n",
      "Name: geometry, dtype: geometry\n",
      "0    POINT (518435.241 176977.100)\n",
      "1    POINT (526688.169 179039.579)\n",
      "2    POINT (530053.870 181720.949)\n",
      "3    POINT (531998.990 180453.132)\n",
      "4    POINT (530754.373 180802.421)\n",
      "Name: geometry, dtype: geometry\n"
     ]
    }
   ],
   "source": [
    "#Dealing with Geo Data of sites\n",
    "\n",
    "gdf_houses = gpd.GeoDataFrame(geometry=gpd.points_from_xy(df_pick.longitude, df_pick.latitude, crs='epsg:4326'))\n",
    "gdf_houses = gdf_houses.geometry.to_crs('epsg:27700')\n",
    "print(gdf_houses.head())\n",
    "\n",
    "gdf_sites = gpd.GeoDataFrame(geometry=gpd.points_from_xy(df_sites_pick.Longitude, df_sites_pick.Latitude, crs='epsg:4326'))\n",
    "gdf_sites = gdf_sites.geometry.to_crs('epsg:27700')\n",
    "print(gdf_sites.head())"
   ]
  },
  {
   "cell_type": "code",
   "execution_count": 16,
   "id": "98abbd56-2adf-44b2-b144-60c4a68d40c4",
   "metadata": {},
   "outputs": [
    {
     "name": "stdout",
     "output_type": "stream",
     "text": [
      "   house_index  site_index           d\n",
      "0            0          41  517.875515\n",
      "1            0          51  434.722553\n",
      "2            2          36  138.253958\n",
      "3            5           3  658.957941\n",
      "4            5          15  817.727163\n"
     ]
    }
   ],
   "source": [
    "# calculate number of sites aroud houses and the distance between them\n",
    "list1 = []\n",
    "list2 = []\n",
    "list3 = []\n",
    "for i in range(0,len(gdf_houses)):\n",
    "    #(x1,y1) is the coordinate of houses\n",
    "    x1=gdf_houses.x[i]\n",
    "    y1=gdf_houses.y[i]\n",
    "    r=1000 #radius 1km\n",
    "    count=0\n",
    "    for j in range(0,len(gdf_sites)):\n",
    "        #(x2,y2) is the coordinate of sites\n",
    "        x2=gdf_sites.x[j]\n",
    "        y2=gdf_sites.y[j]\n",
    "        d=pow(pow(x1-x2,2)+pow(y1-y2,2),0.5)\n",
    "        if d<r:\n",
    "            count+=1\n",
    "\n",
    "            list1.append(i)\n",
    "            list2.append(j)\n",
    "            list3.append(d)\n",
    "            df_dis = pd.DataFrame({'house_index':list1,'site_index':list2,'d':list3})\n",
    "print(df_dis.head())"
   ]
  },
  {
   "cell_type": "code",
   "execution_count": 17,
   "id": "c6652040-0e44-4e5d-ae48-2e199952623c",
   "metadata": {},
   "outputs": [],
   "source": [
    "# final dataframe\n",
    "df_dis_houses = pd.merge(df_dis, df_pick, how='left', on=['house_index'])\n",
    "df_dis_houses_sites = pd.merge(df_dis_houses, df_sites_pick, how='left', on=['site_index'])\n",
    "df_dis_houses_sites_pick = df_dis_houses_sites.loc[:,['house_index', 'site_index', 'd',\n",
    "                                                      'price_increase','reviews_per_month_2022',\n",
    "                                                      'number_of_reviews_ltm_2022','visitors_2021']]"
   ]
  },
  {
   "cell_type": "code",
   "execution_count": 18,
   "id": "691482b3-44cb-46db-a29f-ec3a7663a22e",
   "metadata": {},
   "outputs": [
    {
     "name": "stdout",
     "output_type": "stream",
     "text": [
      "   house_index  site_index           d  price_increase  \\\n",
      "0            0          41  517.875515        0.475962   \n",
      "1            0          51  434.722553        0.475962   \n",
      "2            2          36  138.253958        0.000000   \n",
      "3            5           3  658.957941        0.144928   \n",
      "4            5          15  817.727163        0.144928   \n",
      "\n",
      "   reviews_per_month_2022  number_of_reviews_ltm_2022  visitors_2021  \n",
      "0                    0.34                           3         8388.0  \n",
      "1                    0.34                           3         2000.0  \n",
      "2                    0.64                          10        20512.0  \n",
      "3                    0.65                           4      1156037.0  \n",
      "4                    0.65                           4       320542.0  \n"
     ]
    }
   ],
   "source": [
    "print(df_dis_houses_sites_pick.head())"
   ]
  },
  {
   "cell_type": "code",
   "execution_count": 19,
   "id": "681bfef3-ccb4-45d9-b4c1-cd569b97a79f",
   "metadata": {},
   "outputs": [
    {
     "name": "stdout",
     "output_type": "stream",
     "text": [
      "            d  price_increase  reviews_per_month_2022  \\\n",
      "0  434.722553        0.475962                    0.34   \n",
      "1  138.253958        0.000000                    0.64   \n",
      "2  658.957941        0.144928                    0.65   \n",
      "3  480.641734        0.000000                    0.47   \n",
      "4  672.352569        0.034483                    3.25   \n",
      "\n",
      "   number_of_reviews_ltm_2022  visitors_2021  cnt  \n",
      "0                           3         2000.0    2  \n",
      "1                          10        20512.0    1  \n",
      "2                           4      1156037.0    3  \n",
      "3                           1         1794.0    1  \n",
      "4                          16       320542.0    2  \n"
     ]
    }
   ],
   "source": [
    "#find min(d) and cnt(sites)\n",
    "df_index_d = df_dis_houses_sites_pick.loc[:,['house_index','d']]\n",
    "df_min_d = df_index_d.groupby(['house_index'],as_index=False).min()\n",
    "df_cnt_sites = df_index_d.groupby(['house_index'],as_index=False).count()\n",
    "df_cnt_sites_rename = df_cnt_sites.rename(columns = {'d':'cnt'})\n",
    "\n",
    "\n",
    "df_min_d_merge = pd.merge(df_dis_houses_sites_pick, df_min_d, how='right', on=['d'])\n",
    "df_min_d_merge_rename = df_min_d_merge.rename(columns = {'house_index_x':'house_index'})\n",
    "df_cnt_merge = pd.merge(df_min_d_merge_rename, df_cnt_sites_rename, how='right', on=['house_index'])\n",
    "\n",
    "\n",
    "df_final = df_cnt_merge.loc[:,['d', 'price_increase','reviews_per_month_2022',\n",
    "                               'number_of_reviews_ltm_2022', 'visitors_2021','cnt']]\n",
    "print(df_final.head())"
   ]
  },
  {
   "cell_type": "code",
   "execution_count": 20,
   "id": "5a9ac55c-ab3f-4ed2-adc2-ff581c676bee",
   "metadata": {},
   "outputs": [
    {
     "data": {
      "text/html": [
       "<div>\n",
       "<style scoped>\n",
       "    .dataframe tbody tr th:only-of-type {\n",
       "        vertical-align: middle;\n",
       "    }\n",
       "\n",
       "    .dataframe tbody tr th {\n",
       "        vertical-align: top;\n",
       "    }\n",
       "\n",
       "    .dataframe thead th {\n",
       "        text-align: right;\n",
       "    }\n",
       "</style>\n",
       "<table border=\"1\" class=\"dataframe\">\n",
       "  <thead>\n",
       "    <tr style=\"text-align: right;\">\n",
       "      <th></th>\n",
       "      <th>d</th>\n",
       "      <th>price_increase</th>\n",
       "      <th>reviews_per_month_2022</th>\n",
       "      <th>number_of_reviews_ltm_2022</th>\n",
       "      <th>visitors_2021</th>\n",
       "      <th>cnt</th>\n",
       "    </tr>\n",
       "  </thead>\n",
       "  <tbody>\n",
       "    <tr>\n",
       "      <th>0</th>\n",
       "      <td>0.423234</td>\n",
       "      <td>0.017227</td>\n",
       "      <td>0.010748</td>\n",
       "      <td>0.002747</td>\n",
       "      <td>0.000931</td>\n",
       "      <td>0.090909</td>\n",
       "    </tr>\n",
       "    <tr>\n",
       "      <th>1</th>\n",
       "      <td>0.120476</td>\n",
       "      <td>0.011647</td>\n",
       "      <td>0.022691</td>\n",
       "      <td>0.012363</td>\n",
       "      <td>0.010361</td>\n",
       "      <td>0.000000</td>\n",
       "    </tr>\n",
       "    <tr>\n",
       "      <th>2</th>\n",
       "      <td>0.652227</td>\n",
       "      <td>0.013346</td>\n",
       "      <td>0.023089</td>\n",
       "      <td>0.004121</td>\n",
       "      <td>0.588826</td>\n",
       "      <td>0.181818</td>\n",
       "    </tr>\n",
       "    <tr>\n",
       "      <th>3</th>\n",
       "      <td>0.470128</td>\n",
       "      <td>0.011647</td>\n",
       "      <td>0.015924</td>\n",
       "      <td>0.000000</td>\n",
       "      <td>0.000826</td>\n",
       "      <td>0.000000</td>\n",
       "    </tr>\n",
       "    <tr>\n",
       "      <th>4</th>\n",
       "      <td>0.665906</td>\n",
       "      <td>0.012052</td>\n",
       "      <td>0.126592</td>\n",
       "      <td>0.020604</td>\n",
       "      <td>0.163204</td>\n",
       "      <td>0.090909</td>\n",
       "    </tr>\n",
       "  </tbody>\n",
       "</table>\n",
       "</div>"
      ],
      "text/plain": [
       "          d  price_increase  reviews_per_month_2022  \\\n",
       "0  0.423234        0.017227                0.010748   \n",
       "1  0.120476        0.011647                0.022691   \n",
       "2  0.652227        0.013346                0.023089   \n",
       "3  0.470128        0.011647                0.015924   \n",
       "4  0.665906        0.012052                0.126592   \n",
       "\n",
       "   number_of_reviews_ltm_2022  visitors_2021       cnt  \n",
       "0                    0.002747       0.000931  0.090909  \n",
       "1                    0.012363       0.010361  0.000000  \n",
       "2                    0.004121       0.588826  0.181818  \n",
       "3                    0.000000       0.000826  0.000000  \n",
       "4                    0.020604       0.163204  0.090909  "
      ]
     },
     "execution_count": 20,
     "metadata": {},
     "output_type": "execute_result"
    }
   ],
   "source": [
    "#Data standardisation\n",
    "\n",
    "from sklearn.preprocessing import MinMaxScaler\n",
    "mms = MinMaxScaler()\n",
    "\n",
    "df_standardised = df_final.copy()\n",
    "for c in df_final.columns.values:\n",
    "    df_standardised[c] = mms.fit_transform(df_final[c].values.reshape(-1,1))\n",
    "df_standardised.head()"
   ]
  },
  {
   "cell_type": "code",
   "execution_count": 21,
   "id": "99817cdb-3bf4-403d-a138-f1aab054b995",
   "metadata": {},
   "outputs": [
    {
     "data": {
      "text/plain": [
       "(2602, 6)"
      ]
     },
     "execution_count": 21,
     "metadata": {},
     "output_type": "execute_result"
    }
   ],
   "source": [
    "# print the shape of the DataFrame\n",
    "df_standardised.shape"
   ]
  },
  {
   "cell_type": "code",
   "execution_count": 22,
   "id": "737ece5c-35dd-40fb-81c4-7b6e9869f76c",
   "metadata": {},
   "outputs": [
    {
     "data": {
      "text/plain": [
       "<AxesSubplot:xlabel='cnt', ylabel='number_of_reviews_ltm_2022'>"
      ]
     },
     "execution_count": 22,
     "metadata": {},
     "output_type": "execute_result"
    },
    {
     "data": {
      "image/png": "[encoded data removed]",
      "text/plain": [
       "<Figure size 1152x576 with 5 Axes>"
      ]
     },
     "metadata": {
      "needs_background": "light"
     },
     "output_type": "display_data"
    }
   ],
   "source": [
    "# visualize the relationship between the features and the response using scatterplots\n",
    "fig, axs = plt.subplots(1, 5, sharey=True)\n",
    "df_standardised.plot(kind='scatter', x='d', y='number_of_reviews_ltm_2022', ax=axs[0], figsize=(16, 8))\n",
    "df_standardised.plot(kind='scatter', x='price_increase', y='number_of_reviews_ltm_2022', ax=axs[1])\n",
    "df_standardised.plot(kind='scatter', x='reviews_per_month_2022', y='number_of_reviews_ltm_2022', ax=axs[2])\n",
    "df_standardised.plot(kind='scatter', x='visitors_2021', y='number_of_reviews_ltm_2022', ax=axs[3])\n",
    "df_standardised.plot(kind='scatter', x='cnt', y='number_of_reviews_ltm_2022', ax=axs[4])"
   ]
  },
  {
   "cell_type": "code",
   "execution_count": 23,
   "id": "3bb63fb9-d475-4d6f-8f4f-e6bad5d9d808",
   "metadata": {},
   "outputs": [
    {
     "data": {
      "text/html": [
       "<div>\n",
       "<style scoped>\n",
       "    .dataframe tbody tr th:only-of-type {\n",
       "        vertical-align: middle;\n",
       "    }\n",
       "\n",
       "    .dataframe tbody tr th {\n",
       "        vertical-align: top;\n",
       "    }\n",
       "\n",
       "    .dataframe thead th {\n",
       "        text-align: right;\n",
       "    }\n",
       "</style>\n",
       "<table border=\"1\" class=\"dataframe\">\n",
       "  <thead>\n",
       "    <tr style=\"text-align: right;\">\n",
       "      <th></th>\n",
       "      <th>d</th>\n",
       "      <th>price_increase</th>\n",
       "      <th>reviews_per_month_2022</th>\n",
       "      <th>number_of_reviews_ltm_2022</th>\n",
       "      <th>visitors_2021</th>\n",
       "      <th>cnt</th>\n",
       "    </tr>\n",
       "  </thead>\n",
       "  <tbody>\n",
       "    <tr>\n",
       "      <th>d</th>\n",
       "      <td>1.000000</td>\n",
       "      <td>-0.001407</td>\n",
       "      <td>0.007799</td>\n",
       "      <td>0.032077</td>\n",
       "      <td>0.016479</td>\n",
       "      <td>-0.526805</td>\n",
       "    </tr>\n",
       "    <tr>\n",
       "      <th>price_increase</th>\n",
       "      <td>-0.001407</td>\n",
       "      <td>1.000000</td>\n",
       "      <td>0.026414</td>\n",
       "      <td>0.022845</td>\n",
       "      <td>-0.008061</td>\n",
       "      <td>0.013243</td>\n",
       "    </tr>\n",
       "    <tr>\n",
       "      <th>reviews_per_month_2022</th>\n",
       "      <td>0.007799</td>\n",
       "      <td>0.026414</td>\n",
       "      <td>1.000000</td>\n",
       "      <td>0.845709</td>\n",
       "      <td>-0.033093</td>\n",
       "      <td>-0.006250</td>\n",
       "    </tr>\n",
       "    <tr>\n",
       "      <th>number_of_reviews_ltm_2022</th>\n",
       "      <td>0.032077</td>\n",
       "      <td>0.022845</td>\n",
       "      <td>0.845709</td>\n",
       "      <td>1.000000</td>\n",
       "      <td>-0.032822</td>\n",
       "      <td>-0.002369</td>\n",
       "    </tr>\n",
       "    <tr>\n",
       "      <th>visitors_2021</th>\n",
       "      <td>0.016479</td>\n",
       "      <td>-0.008061</td>\n",
       "      <td>-0.033093</td>\n",
       "      <td>-0.032822</td>\n",
       "      <td>1.000000</td>\n",
       "      <td>0.114486</td>\n",
       "    </tr>\n",
       "    <tr>\n",
       "      <th>cnt</th>\n",
       "      <td>-0.526805</td>\n",
       "      <td>0.013243</td>\n",
       "      <td>-0.006250</td>\n",
       "      <td>-0.002369</td>\n",
       "      <td>0.114486</td>\n",
       "      <td>1.000000</td>\n",
       "    </tr>\n",
       "  </tbody>\n",
       "</table>\n",
       "</div>"
      ],
      "text/plain": [
       "                                   d  price_increase  reviews_per_month_2022  \\\n",
       "d                           1.000000       -0.001407                0.007799   \n",
       "price_increase             -0.001407        1.000000                0.026414   \n",
       "reviews_per_month_2022      0.007799        0.026414                1.000000   \n",
       "number_of_reviews_ltm_2022  0.032077        0.022845                0.845709   \n",
       "visitors_2021               0.016479       -0.008061               -0.033093   \n",
       "cnt                        -0.526805        0.013243               -0.006250   \n",
       "\n",
       "                            number_of_reviews_ltm_2022  visitors_2021  \\\n",
       "d                                             0.032077       0.016479   \n",
       "price_increase                                0.022845      -0.008061   \n",
       "reviews_per_month_2022                        0.845709      -0.033093   \n",
       "number_of_reviews_ltm_2022                    1.000000      -0.032822   \n",
       "visitors_2021                                -0.032822       1.000000   \n",
       "cnt                                          -0.002369       0.114486   \n",
       "\n",
       "                                 cnt  \n",
       "d                          -0.526805  \n",
       "price_increase              0.013243  \n",
       "reviews_per_month_2022     -0.006250  \n",
       "number_of_reviews_ltm_2022 -0.002369  \n",
       "visitors_2021               0.114486  \n",
       "cnt                         1.000000  "
      ]
     },
     "execution_count": 23,
     "metadata": {},
     "output_type": "execute_result"
    }
   ],
   "source": [
    "df_standardised.corr()"
   ]
  },
  {
   "cell_type": "code",
   "execution_count": 24,
   "id": "d4c89c4b-a66f-4c0c-ae0c-3731a03d56ab",
   "metadata": {},
   "outputs": [
    {
     "data": {
      "text/plain": [
       "Text(0.5, 1.0, 'Correlation Matrix')"
      ]
     },
     "execution_count": 24,
     "metadata": {},
     "output_type": "execute_result"
    },
    {
     "data": {
      "image/png": "[encoded data removed]",
      "text/plain": [
       "<Figure size 1440x1080 with 2 Axes>"
      ]
     },
     "metadata": {
      "needs_background": "light"
     },
     "output_type": "display_data"
    }
   ],
   "source": [
    "plt.rcParams[\"axes.grid\"] = False\n",
    "f = plt.figure(figsize=(20, 15))\n",
    "plt.matshow(df_final.corr(), fignum=f.number)\n",
    "plt.xticks(range(df_final.shape[1]), df_final.columns, fontsize=20, rotation=90)\n",
    "plt.yticks(range(df_final.shape[1]), df_final.columns, fontsize=20)\n",
    "cb = plt.colorbar()\n",
    "cb.ax.tick_params(labelsize=20)\n",
    "plt.title('Correlation Matrix', fontsize=35)"
   ]
  },
  {
   "cell_type": "code",
   "execution_count": 25,
   "id": "8717926d-98a0-47e4-96fb-a8c01aa59702",
   "metadata": {},
   "outputs": [],
   "source": [
    "# delete inf and nan\n",
    "df_standardised[np.isnan(df_final)] = 0\n",
    "df_standardised[np.isinf(df_final)] = 0"
   ]
  },
  {
   "cell_type": "code",
   "execution_count": 26,
   "id": "209135d6-e6b9-4c8c-8d43-fd2ecce6c437",
   "metadata": {},
   "outputs": [
    {
     "name": "stdout",
     "output_type": "stream",
     "text": [
      "                                OLS Regression Results                                \n",
      "======================================================================================\n",
      "Dep. Variable:     number_of_reviews_ltm_2022   R-squared:                       0.716\n",
      "Model:                                    OLS   Adj. R-squared:                  0.716\n",
      "Method:                         Least Squares   F-statistic:                     1311.\n",
      "Date:                        Sat, 14 Jan 2023   Prob (F-statistic):               0.00\n",
      "Time:                                17:50:38   Log-Likelihood:                 5665.3\n",
      "No. Observations:                        2602   AIC:                        -1.132e+04\n",
      "Df Residuals:                            2596   BIC:                        -1.128e+04\n",
      "Df Model:                                   5                                         \n",
      "Covariance Type:                    nonrobust                                         \n",
      "==========================================================================================\n",
      "                             coef    std err          t      P>|t|      [0.025      0.975]\n",
      "------------------------------------------------------------------------------------------\n",
      "Intercept                 -0.0179      0.002     -9.674      0.000      -0.022      -0.014\n",
      "d                          0.0078      0.003      3.099      0.002       0.003       0.013\n",
      "price_increase             0.0004      0.022      0.018      0.986      -0.043       0.043\n",
      "reviews_per_month_2022     0.6268      0.008     80.785      0.000       0.612       0.642\n",
      "visitors_2021             -0.0021      0.003     -0.778      0.437      -0.007       0.003\n",
      "cnt                        0.0057      0.003      1.932      0.053   -8.61e-05       0.012\n",
      "==============================================================================\n",
      "Omnibus:                     3803.278   Durbin-Watson:                   0.902\n",
      "Prob(Omnibus):                  0.000   Jarque-Bera (JB):          2832226.284\n",
      "Skew:                           8.335   Prob(JB):                         0.00\n",
      "Kurtosis:                     163.766   Cond. No.                         47.8\n",
      "==============================================================================\n",
      "\n",
      "Notes:\n",
      "[1] Standard Errors assume that the covariance matrix of the errors is correctly specified.\n"
     ]
    }
   ],
   "source": [
    "# This performs a multiple regression of expectancy against recycling:\n",
    "\n",
    "reg_number_of_reviews_ltm_2022 = smf.ols(formula='number_of_reviews_ltm_2022 ~ d + price_increase + reviews_per_month_2022 + visitors_2021 + cnt',data=df_standardised).fit()\n",
    "\n",
    "# And this gives a big summary of the results:\n",
    "print(reg_number_of_reviews_ltm_2022.summary())"
   ]
  },
  {
   "cell_type": "code",
   "execution_count": 27,
   "id": "4c4f44dd-0a52-436c-907c-d5beb38acedf",
   "metadata": {},
   "outputs": [
    {
     "data": {
      "image/png": "[encoded data removed]",
      "text/plain": [
       "<Figure size 432x288 with 1 Axes>"
      ]
     },
     "metadata": {
      "needs_background": "light"
     },
     "output_type": "display_data"
    }
   ],
   "source": [
    "# plot \n",
    "plt.scatter(reg_number_of_reviews_ltm_2022.fittedvalues, reg_number_of_reviews_ltm_2022.resid)\n",
    "# adding title and labels\n",
    "plt.xlabel('x_label')\n",
    "plt.ylabel('Fitted number_of_reviews_ltm_2022')\n",
    "plt.title('Fitted number_of_reviews_ltm_2022 vs. x_label')\n",
    "plt.show()"
   ]
  },
  {
   "cell_type": "code",
   "execution_count": 28,
   "id": "3b7471d6-0754-414e-8b49-a6dc97801d49",
   "metadata": {},
   "outputs": [
    {
     "data": {
      "text/plain": [
       "<seaborn.axisgrid.FacetGrid at 0x7fde069946a0>"
      ]
     },
     "execution_count": 28,
     "metadata": {},
     "output_type": "execute_result"
    },
    {
     "data": {
      "image/png": "[encoded data removed]",
      "text/plain": [
       "<Figure size 360x360 with 1 Axes>"
      ]
     },
     "metadata": {
      "needs_background": "light"
     },
     "output_type": "display_data"
    }
   ],
   "source": [
    "sn.displot(reg_number_of_reviews_ltm_2022.resid, stat=\"density\", kde = True)"
   ]
  },
  {
   "cell_type": "code",
   "execution_count": null,
   "id": "0b4fe549-b4a5-4f1f-ac9d-f122735fe11d",
   "metadata": {},
   "outputs": [],
   "source": []
  },
  {
   "cell_type": "code",
   "execution_count": 51,
   "id": "0d6517af-e84c-43c5-ba8e-201ed3f6ffe3",
   "metadata": {},
   "outputs": [],
   "source": [
    "# Data visualisation\n",
    "# Map of Airbnb in London in 2022\n",
    "\n",
    "# 【2022 Airbnb 分布图】\n",
    "\n",
    "import folium\n",
    "from folium import plugins\n",
    "\n",
    "# data cleaning\n",
    "df_cleaned_2022 = df_2022[(df_2022[\"longitude\"] != 0) & (df_2022[\"latitude\"] != 0)]\n",
    "\n",
    "# pick the columns that we need\n",
    "num = df_cleaned_2022.shape[0]\n",
    "lat_2022 = np.array(df_cleaned_2022[\"latitude\"][0:num])  # get latitude\n",
    "lon_2022 = np.array(df_cleaned_2022[\"longitude\"][0:num]) # get longitude\n",
    "\n",
    "# Making the map\n",
    "london_map = folium.Map(location=[51.507222, -0.1275], \n",
    "                     zoom_start=10, \n",
    "                     control_scale=True)\n",
    "\n",
    "airbnb2022_cluster = plugins.MarkerCluster().add_to(london_map)\n",
    "\n",
    "for i in range(num):\n",
    "    folium.Marker(location = [lat_2022[i], lon_2022[i]]).add_to(airbnb2022_cluster)\n",
    "\n",
    "# london_map.add_child(airbnb2022_cluster)"
   ]
  },
  {
   "cell_type": "code",
   "execution_count": null,
   "id": "bd8557d7-046b-4430-b518-d54775d5e4cd",
   "metadata": {},
   "outputs": [],
   "source": [
    "# Data visualisation\n",
    "# ????\n",
    "\n",
    "# 【20和22 共同保留且清洗的 Airbnb 分布图】\n",
    "\n",
    "import folium\n",
    "from folium import plugins\n",
    "\n",
    "# pick the columns that we need\n",
    "num = df_cleaned.shape[0]\n",
    "lat_cleaned = np.array(df_cleaned[\"latitude\"][0:num])  # get latitude\n",
    "lon_cleaned = np.array(df_cleaned[\"longitude\"][0:num]) # get longitude\n",
    "\n",
    "# Making the map\n",
    "london_map = folium.Map(location=[51.507222, -0.1275], \n",
    "                     zoom_start=10, \n",
    "                     control_scale=True)\n",
    "\n",
    "cleaned_cluster = plugins.MarkerCluster().add_to(london_map)\n",
    "\n",
    "for i in range(num):\n",
    "    folium.Marker(location = [lat_cleaned[i], lon_cleaned[i]]).add_to(cleaned_cluster)\n",
    "\n",
    "# london_map.add_child(cleaned_cluster)"
   ]
  },
  {
   "cell_type": "code",
   "execution_count": null,
   "id": "9fbc4a2a-03e7-4257-b96d-138223222842",
   "metadata": {},
   "outputs": [],
   "source": [
    "# Data visualisation\n",
    "# Map of London attractions\n",
    "\n",
    "# 【伦敦景点】\n",
    "\n",
    "import folium\n",
    "from folium import plugins\n",
    "\n",
    "# data cleaning\n",
    "df_cleaned_2022 = df_2022[(df_2022[\"longitude\"] != 0) & (df_2022[\"latitude\"] != 0)]\n",
    "\n",
    "# pick the columns that we need\n",
    "num = df_cleaned_2022.shape[0]\n",
    "lat_2022 = np.array(df_cleaned_2022[\"latitude\"][0:num])  # get latitude\n",
    "lon_2022 = np.array(df_cleaned_2022[\"longitude\"][0:num]) # get longitude\n",
    "\n",
    "# Making the map\n",
    "london_map = folium.Map(location=[51.507222, -0.1275], \n",
    "                     zoom_start=10, \n",
    "                     control_scale=True)\n",
    "\n",
    "la_cluster = plugins.MarkerCluster().add_to(london_map)\n",
    "\n",
    "for i in range(num):\n",
    "    folium.Marker(location = [lat_2022[i], lon_2022[i]]).add_to(la_cluster)\n",
    "\n",
    "# london_map.add_child(la_cluster)"
   ]
  },
  {
   "cell_type": "code",
   "execution_count": 52,
   "id": "5ca8993a-5361-4802-aa4f-d0cd5ecae621",
   "metadata": {},
   "outputs": [
    {
     "data": {
      "text/plain": [
       "<folium.plugins.heat_map.HeatMap at 0x7f668075e080>"
      ]
     },
     "execution_count": 52,
     "metadata": {},
     "output_type": "execute_result"
    }
   ],
   "source": [
    "# Data visualisation\n",
    "# Heat map of the price of London Airbnb in 2022\n",
    "\n",
    "# 【Airbnb 价格热力图】\n",
    "\n",
    "from folium.plugins import HeatMap\n",
    "\n",
    "# pick the columns that we need\n",
    "airbnbNum = 8252  # number of Airbnb after data cleaning\n",
    "lat = np.array(df_cleaned[\"latitude\"][0:airbnbNum])  # get latitude\n",
    "lon = np.array(df_cleaned[\"longitude\"][0:airbnbNum]) # get longitude\n",
    "pri = np.array(df_cleaned[\"price_2022\"][0:airbnbNum], dtype=float) # price in 2022\n",
    "\n",
    "# Make the data in the form of [latitude, longitude, price]\n",
    "Airbnbdata = [[lat[i], lon[i], pri[i]] for i in range(airbnbNum)] \n",
    "\n",
    "# Making the map\n",
    "mapData = folium.Map(location=[51.507222, -0.1275], \n",
    "                     zoom_start=10, \n",
    "                     control_scale=True)\n",
    "\n",
    "HeatMap(Airbnbdata).add_to(mapData)\n",
    "\n",
    "# mapData\n"
   ]
  },
  {
   "cell_type": "code",
   "execution_count": null,
   "id": "aec250ea-349c-4286-b87e-e4d8d3fb26b3",
   "metadata": {},
   "outputs": [],
   "source": []
  },
  {
   "cell_type": "code",
   "execution_count": null,
   "id": "0e0a2e09-30a4-4bd7-bb3a-6836688b677b",
   "metadata": {},
   "outputs": [],
   "source": []
  }
 ],
 "metadata": {
  "kernelspec": {
   "display_name": "Python 3 (ipykernel)",
   "language": "python",
   "name": "python3"
  },
  "language_info": {
   "codemirror_mode": {
    "name": "ipython",
    "version": 3
   },
   "file_extension": ".py",
   "mimetype": "text/x-python",
   "name": "python",
   "nbconvert_exporter": "python",
   "pygments_lexer": "ipython3",
   "version": "3.10.5"
  }
 },
 "nbformat": 4,
 "nbformat_minor": 5
}
